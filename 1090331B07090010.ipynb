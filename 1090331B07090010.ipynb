{
 "cells": [
  {
   "cell_type": "markdown",
   "metadata": {},
   "source": [
    "# 商用程式設計：第四章　Python串列物件\n",
    "### Chap 4(109/03/31)\n",
    "* List：串列 [ ]\n",
    "* Tuple：固定串列 ( ) 簡稱:元組\n",
    "* Dict：有鍵值(Key)的串列 { }"
   ]
  },
  {
   "cell_type": "code",
   "execution_count": 1,
   "metadata": {},
   "outputs": [
    {
     "name": "stdout",
     "output_type": "stream",
     "text": [
      "python\n",
      "3.7\n",
      "python\n",
      "Java\n",
      "SQL\n",
      "{'name': 'python', 'version': '3.7'}\n",
      "dict_keys(['name', 'version'])\n",
      "dict_values(['python', '3.7'])\n",
      "dict_items([('name', 'python'), ('version', '3.7')])\n",
      "True\n"
     ]
    }
   ],
   "source": [
    "#Dictionary(Dict) 字典：帶有鍵值（Key）的串列（list）\n",
    "Ianguages = {'name':'python', 'version':'3.7'} #索引值（鍵值）可以自訂\n",
    "print(Ianguages['name'])\n",
    "print(Ianguages['version'])\n",
    "a = {0:'python', 1:'Java', 2:'SQL'}\n",
    "for i in range(0,3):\n",
    "    print(a[i])\n",
    "print(Ianguages)\n",
    "print(Ianguages.keys())\n",
    "print(Ianguages.values())\n",
    "print(Ianguages.items())\n",
    "print('name' in Ianguages)"
   ]
  },
  {
   "cell_type": "code",
   "execution_count": 2,
   "metadata": {},
   "outputs": [
    {
     "name": "stdout",
     "output_type": "stream",
     "text": [
      "{'name': 'python', 'version': '3.7'}\n",
      "{'name': 'python', 'version': '3.7'}\n",
      "{}\n",
      "python\n",
      "python\n",
      "{'name': 'Java', 'version': '3.7'}\n"
     ]
    }
   ],
   "source": [
    "a = {'name':'python', 'version':'3.7'}\n",
    "print(a)\n",
    "b = a.copy()\n",
    "print(b)\n",
    "b.clear()\n",
    "print(b)\n",
    "print(a['name'])\n",
    "print(a.get('name'))\n",
    "a.update({'name':'Java'})\n",
    "print(a)"
   ]
  },
  {
   "cell_type": "markdown",
   "metadata": {},
   "source": [
    "# 商用程式設計：第五章　Numpy套件\n",
    "## Numpy套件的ndarray型態，提供element-wise的操作\n",
    "### Chap 5(109/03/31)"
   ]
  },
  {
   "cell_type": "code",
   "execution_count": 9,
   "metadata": {},
   "outputs": [
    {
     "name": "stdout",
     "output_type": "stream",
     "text": [
      "[1, 2, 3, 4, 5, 1, 2, 3, 4, 5, 1, 2, 3, 4, 5]\n"
     ]
    }
   ],
   "source": [
    "a = [1,2,3,4,5]\n",
    "print(a * 3)"
   ]
  },
  {
   "cell_type": "code",
   "execution_count": 10,
   "metadata": {},
   "outputs": [
    {
     "name": "stdout",
     "output_type": "stream",
     "text": [
      "[ 3  6  9 12 15]\n"
     ]
    }
   ],
   "source": [
    "\n",
    "import numpy as np\n",
    "b = np.array([1,2,3,4,5])\n",
    "print(b * 3)"
   ]
  },
  {
   "cell_type": "code",
   "execution_count": 13,
   "metadata": {},
   "outputs": [
    {
     "name": "stdout",
     "output_type": "stream",
     "text": [
      "<class 'numpy.ndarray'>\n",
      "1\n",
      "(5,)\n",
      "int32\n"
     ]
    }
   ],
   "source": [
    "print(type(b))\n",
    "print(b.ndim) #ndarray的維度\n",
    "print(b.shape) #ndarray的範圍\n",
    "print(b.dtype) #ndarray的資料型態"
   ]
  },
  {
   "cell_type": "code",
   "execution_count": 30,
   "metadata": {},
   "outputs": [
    {
     "name": "stdout",
     "output_type": "stream",
     "text": [
      "[0. 0. 0. 0. 0. 0.]\n",
      "----------------------------\n",
      "[[0. 0. 0. 0. 0. 0.]\n",
      " [0. 0. 0. 0. 0. 0.]\n",
      " [0. 0. 0. 0. 0. 0.]]\n",
      "----------------------------\n",
      "[[[0. 0. 0. 0. 0. 0.]\n",
      "  [0. 0. 0. 0. 0. 0.]\n",
      "  [0. 0. 0. 0. 0. 0.]]\n",
      "\n",
      " [[0. 0. 0. 0. 0. 0.]\n",
      "  [0. 0. 0. 0. 0. 0.]\n",
      "  [0. 0. 0. 0. 0. 0.]]]\n",
      "----------------------------\n",
      "[[[[0. 0. 0. 0. 0. 0.]\n",
      "   [0. 0. 0. 0. 0. 0.]\n",
      "   [0. 0. 0. 0. 0. 0.]]\n",
      "\n",
      "  [[0. 0. 0. 0. 0. 0.]\n",
      "   [0. 0. 0. 0. 0. 0.]\n",
      "   [0. 0. 0. 0. 0. 0.]]]\n",
      "\n",
      "\n",
      " [[[0. 0. 0. 0. 0. 0.]\n",
      "   [0. 0. 0. 0. 0. 0.]\n",
      "   [0. 0. 0. 0. 0. 0.]]\n",
      "\n",
      "  [[0. 0. 0. 0. 0. 0.]\n",
      "   [0. 0. 0. 0. 0. 0.]\n",
      "   [0. 0. 0. 0. 0. 0.]]]]\n"
     ]
    }
   ],
   "source": [
    "print(np.zeros(6)) #產生6個元素均為0的一維array\n",
    "print(\"----------------------------\")\n",
    "print(np.zeros((3, 6))) #產生18個元素均為0的二維array\n",
    "print(\"----------------------------\")\n",
    "print(np.zeros((2, 3, 6))) #產生36個元素均為0的三維array\n",
    "print(\"----------------------------\")\n",
    "print(np.zeros((2, 2, 3, 6))) #產生72個元素均為0的四維array"
   ]
  },
  {
   "cell_type": "code",
   "execution_count": 31,
   "metadata": {},
   "outputs": [
    {
     "name": "stdout",
     "output_type": "stream",
     "text": [
      "[0. 0. 0. 0. 0. 0. 0. 0. 0. 0. 0. 0. 0. 0. 0. 0.]\n",
      "(16,)\n",
      "[[0. 0. 0. 0.]\n",
      " [0. 0. 0. 0.]\n",
      " [0. 0. 0. 0.]\n",
      " [0. 0. 0. 0.]]\n",
      "(4, 4)\n"
     ]
    }
   ],
   "source": [
    "a = np.zeros(16)\n",
    "print(a)\n",
    "print(a.shape)\n",
    "b = a.reshape((4, 4)) #改變資料的維度維4*4\n",
    "print(b)\n",
    "print(b.shape)"
   ]
  },
  {
   "cell_type": "code",
   "execution_count": 32,
   "metadata": {},
   "outputs": [
    {
     "name": "stdout",
     "output_type": "stream",
     "text": [
      "[0 1 2 3 4 5 6 7 8 9]\n",
      "0\n",
      "[0 1 2 3 4]\n"
     ]
    }
   ],
   "source": [
    "my_array = np.arange(10)\n",
    "print(my_array)\n",
    "print(my_array[0])\n",
    "print(my_array[0:5]) #[0,1,2,3,4]位置的值"
   ]
  },
  {
   "cell_type": "code",
   "execution_count": 39,
   "metadata": {},
   "outputs": [
    {
     "name": "stdout",
     "output_type": "stream",
     "text": [
      "[[0 1 2 3 4]\n",
      " [5 6 7 8 9]]\n",
      "[[0 1 2 3 4]\n",
      " [5 6 7 8 9]]\n",
      "[[0 1 2 3 4]\n",
      " [5 6 7 8 9]]\n"
     ]
    }
   ],
   "source": [
    "a = np.array([[0,1,2,3,4],[5,6,7,8,9]])\n",
    "print(a)\n",
    "b = np.array([np.arange(0,5),np.arange(5,10)])\n",
    "print(b)\n",
    "c = np.array(np.arange(0,10).reshape((2,5)))\n",
    "print(c)"
   ]
  },
  {
   "cell_type": "code",
   "execution_count": null,
   "metadata": {},
   "outputs": [],
   "source": []
  }
 ],
 "metadata": {
  "kernelspec": {
   "display_name": "Python 3",
   "language": "python",
   "name": "python3"
  },
  "language_info": {
   "codemirror_mode": {
    "name": "ipython",
    "version": 3
   },
   "file_extension": ".py",
   "mimetype": "text/x-python",
   "name": "python",
   "nbconvert_exporter": "python",
   "pygments_lexer": "ipython3",
   "version": "3.7.4"
  }
 },
 "nbformat": 4,
 "nbformat_minor": 2
}
