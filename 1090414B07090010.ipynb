{
 "cells": [
  {
   "cell_type": "markdown",
   "metadata": {},
   "source": [
    "# 商用程式設計：第五章　Numpy套件\n",
    "## Numpy套件的ndarray型態，提供element-wise的操作\n",
    "### Chap 5(109/04/14)"
   ]
  },
  {
   "cell_type": "code",
   "execution_count": 8,
   "metadata": {},
   "outputs": [
    {
     "name": "stdout",
     "output_type": "stream",
     "text": [
      "假設有六個組別'Modem'、'DevOps'、'Cloud'、'Big Data'、'Security'、'自我挑戰組'，其參加人數分別為58、8、19、14、6、71人\n",
      "['Modem' 'DevOps' 'Cloud' 'Big Data' 'Security' '自我挑戰組']\n",
      "[58  8 19 14  6 71]\n"
     ]
    }
   ],
   "source": [
    "print(\"假設有六個組別'Modem'、'DevOps'、'Cloud'、'Big Data'、'Security'、'自我挑戰組'，其參加人數分別為58、8、19、14、6、71人\")\n",
    "import numpy as np\n",
    "groups = [\"Modem\", \"DevOps\", \"Cloud\", \"Big Data\", \"Security\", \"自我挑戰組\"]\n",
    "ironman = [58, 8, 19, 14, 6, 71]\n",
    "groups_array = np.array(groups)\n",
    "ironman_array = np.array(ironman)\n",
    "print(groups_array)\n",
    "print(ironman_array)"
   ]
  },
  {
   "cell_type": "code",
   "execution_count": 9,
   "metadata": {},
   "outputs": [
    {
     "name": "stdout",
     "output_type": "stream",
     "text": [
      "請問大於10人的組別有哪些？\n",
      "[ True False  True  True False  True]\n",
      "['Modem' 'Cloud' 'Big Data' '自我挑戰組']\n"
     ]
    }
   ],
   "source": [
    "print(\"請問大於10人的組別有哪些？\")\n",
    "#用人數去篩選組別\n",
    "print(ironman_array >= 10)\n",
    "print(groups_array[ironman_array >= 10])"
   ]
  },
  {
   "cell_type": "code",
   "execution_count": 10,
   "metadata": {},
   "outputs": [
    {
     "name": "stdout",
     "output_type": "stream",
     "text": [
      "除了自我挑戰組之外的組別，人數為何？\n",
      "[ True  True  True  True  True False]\n",
      "[58  8 19 14  6]\n"
     ]
    }
   ],
   "source": [
    "print(\"除了自我挑戰組之外的組別，人數為何？\")\n",
    "#用人數去篩選組別\n",
    "print(groups_array != \"自我挑戰組\")\n",
    "print(ironman_array[groups_array != \"自我挑戰組\"])"
   ]
  },
  {
   "cell_type": "code",
   "execution_count": 11,
   "metadata": {},
   "outputs": [
    {
     "name": "stdout",
     "output_type": "stream",
     "text": [
      "[56.  8. 19. 14.  6. nan]\n"
     ]
    }
   ],
   "source": [
    "#ndarray 空值 nan 無限大 inf\n",
    "nan_array = np.array([56, 8, 19, 14, 6, np.nan])\n",
    "print(nan_array)"
   ]
  },
  {
   "cell_type": "code",
   "execution_count": 12,
   "metadata": {},
   "outputs": [
    {
     "name": "stdout",
     "output_type": "stream",
     "text": [
      "[ 0.63013573 -1.41271635 -0.71146779  1.64041377 -0.27599685  0.544724\n",
      " -0.0385238   0.42763942  1.47970964 -1.14458288]\n"
     ]
    }
   ],
   "source": [
    "#生成10組標準常態分配（平均為0，標準差為1的常態分配）隨機變數\n",
    "normal_samples = np.random.normal(size = 10)\n",
    "print(normal_samples)"
   ]
  },
  {
   "cell_type": "code",
   "execution_count": 13,
   "metadata": {},
   "outputs": [
    {
     "name": "stdout",
     "output_type": "stream",
     "text": [
      "[0.70839063 0.44865619 0.15329161 0.08609703 0.76612929 0.48051733\n",
      " 0.55311532 0.5409987  0.36260783 0.08260783]\n"
     ]
    }
   ],
   "source": [
    "#生成10組介於0 ~ 1之間的隨機變數\n",
    "uniform_samples = np.random.uniform(size = 10)\n",
    "print(uniform_samples)"
   ]
  },
  {
   "cell_type": "code",
   "execution_count": null,
   "metadata": {},
   "outputs": [],
   "source": []
  }
 ],
 "metadata": {
  "kernelspec": {
   "display_name": "Python 3",
   "language": "python",
   "name": "python3"
  },
  "language_info": {
   "codemirror_mode": {
    "name": "ipython",
    "version": 3
   },
   "file_extension": ".py",
   "mimetype": "text/x-python",
   "name": "python",
   "nbconvert_exporter": "python",
   "pygments_lexer": "ipython3",
   "version": "3.7.4"
  }
 },
 "nbformat": 4,
 "nbformat_minor": 2
}
