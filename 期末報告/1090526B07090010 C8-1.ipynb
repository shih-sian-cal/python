{
 "cells": [
  {
   "cell_type": "markdown",
   "metadata": {},
   "source": [
    "# 商用程式設計：第八章　函式\n",
    "## Chap 8(109/05/26)"
   ]
  },
  {
   "cell_type": "code",
   "execution_count": 1,
   "metadata": {},
   "outputs": [
    {
     "name": "stdout",
     "output_type": "stream",
     "text": [
      "請輸入圓的半徑：10\n",
      "圓的面積為： 314.1592653589793\n"
     ]
    }
   ],
   "source": [
    "#傳統寫法\n",
    "import math\n",
    "radius = int(input(\"請輸入圓的半徑：\"))\n",
    "print(\"圓的面積為：\",radius*radius*math.pi)"
   ]
  },
  {
   "cell_type": "code",
   "execution_count": 3,
   "metadata": {},
   "outputs": [
    {
     "name": "stdout",
     "output_type": "stream",
     "text": [
      "圓的面積為： 314.1592653589793\n"
     ]
    }
   ],
   "source": [
    "#面積計算函數：自訂函數\n",
    "import math\n",
    "def circle_area(radius):\n",
    "    area = math.pi * radius * radius\n",
    "    return area\n",
    "\n",
    "#面積計算函數：呼叫自訂函數\n",
    "print(\"圓的面積為：\",circle_area(10))"
   ]
  },
  {
   "cell_type": "code",
   "execution_count": 5,
   "metadata": {},
   "outputs": [
    {
     "name": "stdout",
     "output_type": "stream",
     "text": [
      "圓的面積為： 314.1592653589793\n",
      "圓的周長為： 62.83185307179586\n"
     ]
    }
   ],
   "source": [
    "#函數多型：定義一個可以計算面積，以及周長的函數\n",
    "import math\n",
    "def circle(radius, area = True):\n",
    "    circle_area = math.pi * radius * radius\n",
    "    circle_clrcum = 2 * radius * math.pi\n",
    "    if area == True:\n",
    "        return circle_area\n",
    "    else:\n",
    "        return circle_clrcum\n",
    "    \n",
    "#函數多型：呼叫函數\n",
    "print(\"圓的面積為：\",circle(10)) #傳回圓面積\n",
    "print(\"圓的周長為：\",circle(10, False)) #傳回圓周長"
   ]
  },
  {
   "cell_type": "code",
   "execution_count": 8,
   "metadata": {},
   "outputs": [
    {
     "name": "stdout",
     "output_type": "stream",
     "text": [
      "[28, 35, 15, 37, 45, 71, 36, 90, 77, 23]\n",
      "[15, 23, 28, 35, 36, 37, 45, 71, 77, 90]\n"
     ]
    }
   ],
   "source": [
    "#交換排序法(Exchange Sort)\n",
    "import random\n",
    "def exchange_sort(input_list):\n",
    "    input_list_cloned = input_list\n",
    "    for x in range(0, len(input_list) - 1):\n",
    "        for y in range(x + 1, len(input_list)):\n",
    "            if input_list_cloned[x] > input_list_cloned[y]:\n",
    "                #交換兩數\n",
    "                temp = input_list_cloned[x]\n",
    "                input_list_cloned[x] = input_list_cloned[y]\n",
    "                input_list_cloned[y] = temp\n",
    "    return input_list_cloned\n",
    "my_vector = random.sample(range(0, 100), 10) #產生10個0~99的隨機亂數\n",
    "print(my_vector)\n",
    "print(exchange_sort(my_vector))"
   ]
  },
  {
   "cell_type": "code",
   "execution_count": 15,
   "metadata": {},
   "outputs": [
    {
     "name": "stdout",
     "output_type": "stream",
     "text": [
      " 最多： 58 人\n",
      " 最少： 8 人\n",
      " 總共有： 6 組\n",
      " 總共有： 157 人\n"
     ]
    }
   ],
   "source": [
    "#函式多回傳值\n",
    "def ironman_stats(ironman_list):\n",
    "    max_ironman = max(ironman_list)\n",
    "    min_ironman = min(ironman_list)\n",
    "    len_ironman = len(ironman_list)\n",
    "    sum_ironman = sum(ironman_list)\n",
    "    return max_ironman, min_ironman, len_ironman, sum_ironman\n",
    "ironman = [58, 11, 24, 18, 38, 8]\n",
    "max_ironman, min_ironman, ttl_groups, ttl_ironman = ironman_stats(ironman)\n",
    "print(\"\",\"最多：\", max_ironman, \"人\\n\", \n",
    "      \"最少：\", min_ironman, \"人\\n\", \n",
    "      \"總共有：\", ttl_groups, \"組\\n\", \n",
    "      \"總共有：\", ttl_ironman, \"人\")"
   ]
  },
  {
   "cell_type": "code",
   "execution_count": null,
   "metadata": {},
   "outputs": [],
   "source": []
  }
 ],
 "metadata": {
  "kernelspec": {
   "display_name": "Python 3",
   "language": "python",
   "name": "python3"
  },
  "language_info": {
   "codemirror_mode": {
    "name": "ipython",
    "version": 3
   },
   "file_extension": ".py",
   "mimetype": "text/x-python",
   "name": "python",
   "nbconvert_exporter": "python",
   "pygments_lexer": "ipython3",
   "version": "3.7.4"
  }
 },
 "nbformat": 4,
 "nbformat_minor": 2
}
