{
 "cells": [
  {
   "cell_type": "markdown",
   "metadata": {},
   "source": [
    "# 商用程式設計：第八章　函式\n",
    "## Chap 8(109/06/02)"
   ]
  },
  {
   "cell_type": "code",
   "execution_count": 1,
   "metadata": {},
   "outputs": [
    {
     "name": "stdout",
     "output_type": "stream",
     "text": [
      "10\n"
     ]
    }
   ],
   "source": [
    "#Python的lambda的函數\n",
    "\n",
    "#傳統的函數寫法\n",
    "def max(a, b):\n",
    "    return a if a > b else b\n",
    "print(max(10, 4))"
   ]
  },
  {
   "cell_type": "code",
   "execution_count": 2,
   "metadata": {},
   "outputs": [
    {
     "name": "stdout",
     "output_type": "stream",
     "text": [
      "11\n"
     ]
    }
   ],
   "source": [
    "#lambda函數 arg1, arg2...:expression\n",
    "max = lambda a, b: a if a > b else b\n",
    "print(max(4, 11))"
   ]
  },
  {
   "cell_type": "code",
   "execution_count": 4,
   "metadata": {},
   "outputs": [
    {
     "name": "stdout",
     "output_type": "stream",
     "text": [
      "[100  16  32  24  12 124]\n"
     ]
    }
   ],
   "source": [
    "#lambda應用\n",
    "\n",
    "#list的itemwise應用\n",
    "import numpy as np\n",
    "ironmen = np.array([50, 8, 16, 12, 6, 62])\n",
    "print(ironmen*2)"
   ]
  },
  {
   "cell_type": "code",
   "execution_count": 5,
   "metadata": {},
   "outputs": [
    {
     "name": "stdout",
     "output_type": "stream",
     "text": [
      "[100, 16, 32, 24, 12, 124]\n"
     ]
    }
   ],
   "source": [
    "#lambda寫法\n",
    "#map(func, list) 把list(串列)丟入function(函式)裡面運算\n",
    "print(list(map(lambda x:x * 2,[50, 8, 16, 12, 6, 62])))"
   ]
  },
  {
   "cell_type": "code",
   "execution_count": 23,
   "metadata": {},
   "outputs": [
    {
     "name": "stdout",
     "output_type": "stream",
     "text": [
      "100\n",
      "請輸入數字\n",
      "None\n"
     ]
    }
   ],
   "source": [
    "#錯誤處理\n",
    "def my_square(a):\n",
    "    try:\n",
    "        ans = a ** 2\n",
    "        return ans\n",
    "    except:\n",
    "        print(\"請輸入數字\")\n",
    "print(my_square(10))\n",
    "print(my_square('a'))"
   ]
  },
  {
   "cell_type": "code",
   "execution_count": 27,
   "metadata": {},
   "outputs": [
    {
     "name": "stdout",
     "output_type": "stream",
     "text": [
      "51\n",
      "8\n",
      "18\n",
      "13\n",
      "6\n"
     ]
    }
   ],
   "source": [
    "#Python可以使用*args，或者kwargs(帶有鍵值key)來處理彈性數量的輸入\n",
    "\n",
    "#傳統寫法\n",
    "def ironmen_print(a):\n",
    "    for i in a:\n",
    "        print(i)\n",
    "ironmen = [51, 8, 18, 13, 6]\n",
    "ironmen_print(ironmen)"
   ]
  },
  {
   "cell_type": "code",
   "execution_count": 26,
   "metadata": {},
   "outputs": [
    {
     "name": "stdout",
     "output_type": "stream",
     "text": [
      "51\n",
      "8\n",
      "18\n",
      "13\n",
      "6\n"
     ]
    }
   ],
   "source": [
    "def ironmen_print(*args):\n",
    "    for i in args:\n",
    "        print(i)\n",
    "ironmen_print(51, 8, 18, 13, 6)"
   ]
  },
  {
   "cell_type": "markdown",
   "metadata": {},
   "source": [
    "# 商用程式設計：第九章　iterator\n",
    "## Chap 9(109/06/02)\n",
    "* Python的terator允許物件進行分次處理，通常會呼叫iter定義terator物件，搭配next函式進行下一個值得呼叫。"
   ]
  },
  {
   "cell_type": "code",
   "execution_count": 29,
   "metadata": {},
   "outputs": [
    {
     "name": "stdout",
     "output_type": "stream",
     "text": [
      "1\n",
      "2\n",
      "3\n",
      "4\n"
     ]
    }
   ],
   "source": [
    "mylist = [1, 2, 3, 4]\n",
    "for i in mylist:\n",
    "    print(i)"
   ]
  },
  {
   "cell_type": "code",
   "execution_count": 31,
   "metadata": {},
   "outputs": [
    {
     "name": "stdout",
     "output_type": "stream",
     "text": [
      "1\n",
      "2\n",
      "3\n",
      "4\n"
     ]
    }
   ],
   "source": [
    "mylist = [1, 2, 3, 4]\n",
    "mylist_i = iter(mylist)\n",
    "for i in mylist:\n",
    "    print(next(mylist_i))"
   ]
  },
  {
   "cell_type": "code",
   "execution_count": 38,
   "metadata": {},
   "outputs": [
    {
     "name": "stdout",
     "output_type": "stream",
     "text": [
      "1\n",
      "2\n",
      "3\n",
      "4\n"
     ]
    }
   ],
   "source": [
    "#自訂iterator\n",
    "class mynumbers:\n",
    "    a = 1\n",
    "    def __iter__(self):\n",
    "        return self\n",
    "    def __next__(self):\n",
    "        x = self.a\n",
    "        self.a += 1\n",
    "        return x\n",
    "my_num = mynumbers()\n",
    "print(next(my_num))\n",
    "print(next(my_num))\n",
    "print(next(my_num))\n",
    "print(next(my_num))"
   ]
  },
  {
   "cell_type": "code",
   "execution_count": 39,
   "metadata": {},
   "outputs": [
    {
     "name": "stdout",
     "output_type": "stream",
     "text": [
      "1\n",
      "1\n",
      "2\n",
      "3\n",
      "5\n",
      "8\n",
      "13\n",
      "21\n",
      "34\n",
      "55\n"
     ]
    }
   ],
   "source": [
    "#費氏數列\n",
    "class Fib:\n",
    "    a = 1\n",
    "    def __init__(self):\n",
    "        self.a, self.b = 0, 1\n",
    "    def __iter__(self):\n",
    "        return self\n",
    "    def __next__(self):\n",
    "        self.a, self.b = self.b, self.a + self.b\n",
    "        return self.a\n",
    "a = Fib()\n",
    "for i in range(10):\n",
    "    print(next(a))"
   ]
  },
  {
   "cell_type": "code",
   "execution_count": null,
   "metadata": {},
   "outputs": [],
   "source": []
  }
 ],
 "metadata": {
  "kernelspec": {
   "display_name": "Python 3",
   "language": "python",
   "name": "python3"
  }
 },
 "nbformat": 4,
 "nbformat_minor": 2
}
