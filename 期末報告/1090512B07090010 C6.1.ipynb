{
 "cells": [
  {
   "cell_type": "markdown",
   "metadata": {},
   "source": [
    "# 商用程式設計：第六之一章　DataFrame loc, iloc\n",
    "## Chap 6-1(109/05/12)\n",
    "* DataFrame比mu,py ndarry(element-wise)提供資料統整的功能。\n",
    "* DataFrame通常為2維資料。\n",
    "* 橫的為列(索引index)，直的為欄(columns)。"
   ]
  },
  {
   "cell_type": "code",
   "execution_count": 3,
   "metadata": {},
   "outputs": [
    {
     "data": {
      "text/html": [
       "<div>\n",
       "<style scoped>\n",
       "    .dataframe tbody tr th:only-of-type {\n",
       "        vertical-align: middle;\n",
       "    }\n",
       "\n",
       "    .dataframe tbody tr th {\n",
       "        vertical-align: top;\n",
       "    }\n",
       "\n",
       "    .dataframe thead th {\n",
       "        text-align: right;\n",
       "    }\n",
       "</style>\n",
       "<table border=\"1\" class=\"dataframe\">\n",
       "  <thead>\n",
       "    <tr style=\"text-align: right;\">\n",
       "      <th></th>\n",
       "      <th>A</th>\n",
       "      <th>B</th>\n",
       "      <th>C</th>\n",
       "      <th>D</th>\n",
       "    </tr>\n",
       "  </thead>\n",
       "  <tbody>\n",
       "    <tr>\n",
       "      <td>a</td>\n",
       "      <td>0.379734</td>\n",
       "      <td>0.037716</td>\n",
       "      <td>0.469112</td>\n",
       "      <td>0.599822</td>\n",
       "    </tr>\n",
       "    <tr>\n",
       "      <td>b</td>\n",
       "      <td>0.051527</td>\n",
       "      <td>0.656996</td>\n",
       "      <td>0.038989</td>\n",
       "      <td>0.929538</td>\n",
       "    </tr>\n",
       "    <tr>\n",
       "      <td>c</td>\n",
       "      <td>0.102578</td>\n",
       "      <td>0.873150</td>\n",
       "      <td>0.653418</td>\n",
       "      <td>0.444134</td>\n",
       "    </tr>\n",
       "    <tr>\n",
       "      <td>d</td>\n",
       "      <td>0.095277</td>\n",
       "      <td>0.381300</td>\n",
       "      <td>0.045123</td>\n",
       "      <td>0.316019</td>\n",
       "    </tr>\n",
       "  </tbody>\n",
       "</table>\n",
       "</div>"
      ],
      "text/plain": [
       "          A         B         C         D\n",
       "a  0.379734  0.037716  0.469112  0.599822\n",
       "b  0.051527  0.656996  0.038989  0.929538\n",
       "c  0.102578  0.873150  0.653418  0.444134\n",
       "d  0.095277  0.381300  0.045123  0.316019"
      ]
     },
     "execution_count": 3,
     "metadata": {},
     "output_type": "execute_result"
    }
   ],
   "source": [
    "#隨機產生DataFrame資料\n",
    "import numpy as np\n",
    "import pandas as pd\n",
    "frame = pd.DataFrame(np.random.rand(4,4), index = list('abcd'), columns = list('ABCD'))\n",
    "frame"
   ]
  },
  {
   "cell_type": "code",
   "execution_count": 11,
   "metadata": {},
   "outputs": [
    {
     "data": {
      "text/html": [
       "<div>\n",
       "<style scoped>\n",
       "    .dataframe tbody tr th:only-of-type {\n",
       "        vertical-align: middle;\n",
       "    }\n",
       "\n",
       "    .dataframe tbody tr th {\n",
       "        vertical-align: top;\n",
       "    }\n",
       "\n",
       "    .dataframe thead th {\n",
       "        text-align: right;\n",
       "    }\n",
       "</style>\n",
       "<table border=\"1\" class=\"dataframe\">\n",
       "  <thead>\n",
       "    <tr style=\"text-align: right;\">\n",
       "      <th></th>\n",
       "      <th>A</th>\n",
       "      <th>B</th>\n",
       "      <th>C</th>\n",
       "      <th>D</th>\n",
       "    </tr>\n",
       "  </thead>\n",
       "  <tbody>\n",
       "    <tr>\n",
       "      <td>count</td>\n",
       "      <td>4.000000</td>\n",
       "      <td>4.000000</td>\n",
       "      <td>4.000000</td>\n",
       "      <td>4.000000</td>\n",
       "    </tr>\n",
       "    <tr>\n",
       "      <td>mean</td>\n",
       "      <td>0.157279</td>\n",
       "      <td>0.487291</td>\n",
       "      <td>0.301661</td>\n",
       "      <td>0.572378</td>\n",
       "    </tr>\n",
       "    <tr>\n",
       "      <td>std</td>\n",
       "      <td>0.150007</td>\n",
       "      <td>0.361035</td>\n",
       "      <td>0.309075</td>\n",
       "      <td>0.264879</td>\n",
       "    </tr>\n",
       "    <tr>\n",
       "      <td>min</td>\n",
       "      <td>0.051527</td>\n",
       "      <td>0.037716</td>\n",
       "      <td>0.038989</td>\n",
       "      <td>0.316019</td>\n",
       "    </tr>\n",
       "    <tr>\n",
       "      <td>25%</td>\n",
       "      <td>0.084339</td>\n",
       "      <td>0.295404</td>\n",
       "      <td>0.043589</td>\n",
       "      <td>0.412105</td>\n",
       "    </tr>\n",
       "    <tr>\n",
       "      <td>50%</td>\n",
       "      <td>0.098927</td>\n",
       "      <td>0.519148</td>\n",
       "      <td>0.257118</td>\n",
       "      <td>0.521978</td>\n",
       "    </tr>\n",
       "    <tr>\n",
       "      <td>75%</td>\n",
       "      <td>0.171867</td>\n",
       "      <td>0.711035</td>\n",
       "      <td>0.515189</td>\n",
       "      <td>0.682251</td>\n",
       "    </tr>\n",
       "    <tr>\n",
       "      <td>max</td>\n",
       "      <td>0.379734</td>\n",
       "      <td>0.873150</td>\n",
       "      <td>0.653418</td>\n",
       "      <td>0.929538</td>\n",
       "    </tr>\n",
       "  </tbody>\n",
       "</table>\n",
       "</div>"
      ],
      "text/plain": [
       "              A         B         C         D\n",
       "count  4.000000  4.000000  4.000000  4.000000\n",
       "mean   0.157279  0.487291  0.301661  0.572378\n",
       "std    0.150007  0.361035  0.309075  0.264879\n",
       "min    0.051527  0.037716  0.038989  0.316019\n",
       "25%    0.084339  0.295404  0.043589  0.412105\n",
       "50%    0.098927  0.519148  0.257118  0.521978\n",
       "75%    0.171867  0.711035  0.515189  0.682251\n",
       "max    0.379734  0.873150  0.653418  0.929538"
      ]
     },
     "execution_count": 11,
     "metadata": {},
     "output_type": "execute_result"
    }
   ],
   "source": [
    "#loc用欄位來找出DataFreme的資料\n",
    "#iloc用索引來找出DataFreme的資料\n",
    "frame.describe()"
   ]
  },
  {
   "cell_type": "code",
   "execution_count": 12,
   "metadata": {},
   "outputs": [
    {
     "data": {
      "text/plain": [
       "0.37973394488749224"
      ]
     },
     "execution_count": 12,
     "metadata": {},
     "output_type": "execute_result"
    }
   ],
   "source": [
    "frame.loc['a', 'A']"
   ]
  },
  {
   "cell_type": "code",
   "execution_count": 30,
   "metadata": {},
   "outputs": [
    {
     "data": {
      "text/html": [
       "<div>\n",
       "<style scoped>\n",
       "    .dataframe tbody tr th:only-of-type {\n",
       "        vertical-align: middle;\n",
       "    }\n",
       "\n",
       "    .dataframe tbody tr th {\n",
       "        vertical-align: top;\n",
       "    }\n",
       "\n",
       "    .dataframe thead th {\n",
       "        text-align: right;\n",
       "    }\n",
       "</style>\n",
       "<table border=\"1\" class=\"dataframe\">\n",
       "  <thead>\n",
       "    <tr style=\"text-align: right;\">\n",
       "      <th></th>\n",
       "      <th>A</th>\n",
       "      <th>B</th>\n",
       "      <th>C</th>\n",
       "      <th>D</th>\n",
       "    </tr>\n",
       "  </thead>\n",
       "  <tbody>\n",
       "    <tr>\n",
       "      <td>a</td>\n",
       "      <td>0.379734</td>\n",
       "      <td>0.037716</td>\n",
       "      <td>0.469112</td>\n",
       "      <td>0.599822</td>\n",
       "    </tr>\n",
       "    <tr>\n",
       "      <td>b</td>\n",
       "      <td>0.051527</td>\n",
       "      <td>0.656996</td>\n",
       "      <td>0.038989</td>\n",
       "      <td>0.929538</td>\n",
       "    </tr>\n",
       "  </tbody>\n",
       "</table>\n",
       "</div>"
      ],
      "text/plain": [
       "          A         B         C         D\n",
       "a  0.379734  0.037716  0.469112  0.599822\n",
       "b  0.051527  0.656996  0.038989  0.929538"
      ]
     },
     "execution_count": 30,
     "metadata": {},
     "output_type": "execute_result"
    }
   ],
   "source": [
    "#取前兩列之資料\n",
    "frame.loc['a':'b', :]"
   ]
  },
  {
   "cell_type": "code",
   "execution_count": 33,
   "metadata": {},
   "outputs": [
    {
     "data": {
      "text/html": [
       "<div>\n",
       "<style scoped>\n",
       "    .dataframe tbody tr th:only-of-type {\n",
       "        vertical-align: middle;\n",
       "    }\n",
       "\n",
       "    .dataframe tbody tr th {\n",
       "        vertical-align: top;\n",
       "    }\n",
       "\n",
       "    .dataframe thead th {\n",
       "        text-align: right;\n",
       "    }\n",
       "</style>\n",
       "<table border=\"1\" class=\"dataframe\">\n",
       "  <thead>\n",
       "    <tr style=\"text-align: right;\">\n",
       "      <th></th>\n",
       "      <th>A</th>\n",
       "      <th>B</th>\n",
       "    </tr>\n",
       "  </thead>\n",
       "  <tbody>\n",
       "    <tr>\n",
       "      <td>a</td>\n",
       "      <td>0.379734</td>\n",
       "      <td>0.037716</td>\n",
       "    </tr>\n",
       "    <tr>\n",
       "      <td>b</td>\n",
       "      <td>0.051527</td>\n",
       "      <td>0.656996</td>\n",
       "    </tr>\n",
       "    <tr>\n",
       "      <td>c</td>\n",
       "      <td>0.102578</td>\n",
       "      <td>0.873150</td>\n",
       "    </tr>\n",
       "    <tr>\n",
       "      <td>d</td>\n",
       "      <td>0.095277</td>\n",
       "      <td>0.381300</td>\n",
       "    </tr>\n",
       "  </tbody>\n",
       "</table>\n",
       "</div>"
      ],
      "text/plain": [
       "          A         B\n",
       "a  0.379734  0.037716\n",
       "b  0.051527  0.656996\n",
       "c  0.102578  0.873150\n",
       "d  0.095277  0.381300"
      ]
     },
     "execution_count": 33,
     "metadata": {},
     "output_type": "execute_result"
    }
   ],
   "source": [
    "#取前兩欄之資料\n",
    "frame.loc[:, 'A':'B']"
   ]
  },
  {
   "cell_type": "code",
   "execution_count": 40,
   "metadata": {},
   "outputs": [
    {
     "name": "stdout",
     "output_type": "stream",
     "text": [
      "          A         B         C         D\n",
      "a  0.379734  0.037716  0.469112  0.599822\n",
      "c  0.102578  0.873150  0.653418  0.444134\n",
      "          A         C\n",
      "a  0.379734  0.469112\n",
      "b  0.051527  0.038989\n",
      "c  0.102578  0.653418\n",
      "d  0.095277  0.045123\n",
      "          A         C\n",
      "a  0.379734  0.469112\n",
      "c  0.102578  0.653418\n"
     ]
    }
   ],
   "source": [
    "#取特殊列、欄的資料\n",
    "print(frame.loc[['a','c'], :])\n",
    "print(frame.loc[:,['A','C']])\n",
    "print(frame.loc[['a','c'], ['A','C']])"
   ]
  },
  {
   "cell_type": "code",
   "execution_count": 41,
   "metadata": {},
   "outputs": [
    {
     "data": {
      "text/plain": [
       "0.37973394488749224"
      ]
     },
     "execution_count": 41,
     "metadata": {},
     "output_type": "execute_result"
    }
   ],
   "source": [
    "#iloc是利用列索引與欄索引進行資料定位，都是從0開始\n",
    "frame.iloc[0,0]"
   ]
  },
  {
   "cell_type": "code",
   "execution_count": 42,
   "metadata": {},
   "outputs": [
    {
     "data": {
      "text/html": [
       "<div>\n",
       "<style scoped>\n",
       "    .dataframe tbody tr th:only-of-type {\n",
       "        vertical-align: middle;\n",
       "    }\n",
       "\n",
       "    .dataframe tbody tr th {\n",
       "        vertical-align: top;\n",
       "    }\n",
       "\n",
       "    .dataframe thead th {\n",
       "        text-align: right;\n",
       "    }\n",
       "</style>\n",
       "<table border=\"1\" class=\"dataframe\">\n",
       "  <thead>\n",
       "    <tr style=\"text-align: right;\">\n",
       "      <th></th>\n",
       "      <th>A</th>\n",
       "      <th>B</th>\n",
       "      <th>C</th>\n",
       "      <th>D</th>\n",
       "    </tr>\n",
       "  </thead>\n",
       "  <tbody>\n",
       "    <tr>\n",
       "      <td>a</td>\n",
       "      <td>0.379734</td>\n",
       "      <td>0.037716</td>\n",
       "      <td>0.469112</td>\n",
       "      <td>0.599822</td>\n",
       "    </tr>\n",
       "    <tr>\n",
       "      <td>b</td>\n",
       "      <td>0.051527</td>\n",
       "      <td>0.656996</td>\n",
       "      <td>0.038989</td>\n",
       "      <td>0.929538</td>\n",
       "    </tr>\n",
       "  </tbody>\n",
       "</table>\n",
       "</div>"
      ],
      "text/plain": [
       "          A         B         C         D\n",
       "a  0.379734  0.037716  0.469112  0.599822\n",
       "b  0.051527  0.656996  0.038989  0.929538"
      ]
     },
     "execution_count": 42,
     "metadata": {},
     "output_type": "execute_result"
    }
   ],
   "source": [
    "#取前兩列的資料\n",
    "frame.iloc[0:2,:]"
   ]
  },
  {
   "cell_type": "code",
   "execution_count": 43,
   "metadata": {},
   "outputs": [
    {
     "data": {
      "text/html": [
       "<div>\n",
       "<style scoped>\n",
       "    .dataframe tbody tr th:only-of-type {\n",
       "        vertical-align: middle;\n",
       "    }\n",
       "\n",
       "    .dataframe tbody tr th {\n",
       "        vertical-align: top;\n",
       "    }\n",
       "\n",
       "    .dataframe thead th {\n",
       "        text-align: right;\n",
       "    }\n",
       "</style>\n",
       "<table border=\"1\" class=\"dataframe\">\n",
       "  <thead>\n",
       "    <tr style=\"text-align: right;\">\n",
       "      <th></th>\n",
       "      <th>A</th>\n",
       "      <th>B</th>\n",
       "    </tr>\n",
       "  </thead>\n",
       "  <tbody>\n",
       "    <tr>\n",
       "      <td>a</td>\n",
       "      <td>0.379734</td>\n",
       "      <td>0.037716</td>\n",
       "    </tr>\n",
       "    <tr>\n",
       "      <td>b</td>\n",
       "      <td>0.051527</td>\n",
       "      <td>0.656996</td>\n",
       "    </tr>\n",
       "  </tbody>\n",
       "</table>\n",
       "</div>"
      ],
      "text/plain": [
       "          A         B\n",
       "a  0.379734  0.037716\n",
       "b  0.051527  0.656996"
      ]
     },
     "execution_count": 43,
     "metadata": {},
     "output_type": "execute_result"
    }
   ],
   "source": [
    "#取前兩列和兩欄的資料\n",
    "frame.iloc[0:2,0:2]"
   ]
  },
  {
   "cell_type": "code",
   "execution_count": 46,
   "metadata": {},
   "outputs": [
    {
     "name": "stdout",
     "output_type": "stream",
     "text": [
      "          A         B         C         D\n",
      "a  0.379734  0.037716  0.469112  0.599822\n",
      "c  0.102578  0.873150  0.653418  0.444134\n",
      "          A         C\n",
      "a  0.379734  0.469112\n",
      "b  0.051527  0.038989\n",
      "c  0.102578  0.653418\n",
      "d  0.095277  0.045123\n",
      "          A         C\n",
      "a  0.379734  0.469112\n",
      "c  0.102578  0.653418\n"
     ]
    }
   ],
   "source": [
    "#取特殊列、欄的資料\n",
    "print(frame.iloc[[0,2], :])\n",
    "print(frame.iloc[:,[0,2]])\n",
    "print(frame.iloc[[0,2], [0,2]])"
   ]
  },
  {
   "cell_type": "code",
   "execution_count": null,
   "metadata": {},
   "outputs": [],
   "source": []
  }
 ],
 "metadata": {
  "kernelspec": {
   "display_name": "Python 3",
   "language": "python",
   "name": "python3"
  },
  "language_info": {
   "codemirror_mode": {
    "name": "ipython",
    "version": 3
   },
   "file_extension": ".py",
   "mimetype": "text/x-python",
   "name": "python",
   "nbconvert_exporter": "python",
   "pygments_lexer": "ipython3",
   "version": "3.7.4"
  }
 },
 "nbformat": 4,
 "nbformat_minor": 2
}
