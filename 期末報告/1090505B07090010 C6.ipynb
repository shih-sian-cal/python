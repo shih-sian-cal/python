{
 "cells": [
  {
   "cell_type": "markdown",
   "metadata": {},
   "source": [
    "# 商用程式設計：第六章　Pandas Data Frame\n",
    "## Chap 6(109/05/05)\n",
    "* Pandas是python常用的數據分析函式庫，2009年底開源，提供高效能、簡易使用的資料格式(Data Frame)讓使用者可以快速操作及分析資料。\n",
    "* 在異質數據的讀取、轉換和處理上，都讓分析人員更容易處理，例如：從列、欄資料中找到想要的值。\n",
    "* Pandas提供DataFrame則是用來處理結構化(Table like)的資料，例如關聯式資料庫、CSV等。透過載入至Pandas的資料結構物件後，可以透過結構化物件所提供的方法，來快速地進行資料的前處理，如果資料補值、空值去除或取代等。"
   ]
  },
  {
   "cell_type": "code",
   "execution_count": 4,
   "metadata": {},
   "outputs": [],
   "source": [
    "import pandas as pd"
   ]
  },
  {
   "cell_type": "code",
   "execution_count": 16,
   "metadata": {},
   "outputs": [
    {
     "data": {
      "text/html": [
       "<div>\n",
       "<style scoped>\n",
       "    .dataframe tbody tr th:only-of-type {\n",
       "        vertical-align: middle;\n",
       "    }\n",
       "\n",
       "    .dataframe tbody tr th {\n",
       "        vertical-align: top;\n",
       "    }\n",
       "\n",
       "    .dataframe thead th {\n",
       "        text-align: right;\n",
       "    }\n",
       "</style>\n",
       "<table border=\"1\" class=\"dataframe\">\n",
       "  <thead>\n",
       "    <tr style=\"text-align: right;\">\n",
       "      <th></th>\n",
       "      <th>groups</th>\n",
       "      <th>ironman</th>\n",
       "    </tr>\n",
       "  </thead>\n",
       "  <tbody>\n",
       "    <tr>\n",
       "      <td>0</td>\n",
       "      <td>Modem Web</td>\n",
       "      <td>59</td>\n",
       "    </tr>\n",
       "    <tr>\n",
       "      <td>1</td>\n",
       "      <td>DevOps</td>\n",
       "      <td>9</td>\n",
       "    </tr>\n",
       "    <tr>\n",
       "      <td>2</td>\n",
       "      <td>Cloud</td>\n",
       "      <td>19</td>\n",
       "    </tr>\n",
       "    <tr>\n",
       "      <td>3</td>\n",
       "      <td>Big Data</td>\n",
       "      <td>14</td>\n",
       "    </tr>\n",
       "    <tr>\n",
       "      <td>4</td>\n",
       "      <td>Security</td>\n",
       "      <td>6</td>\n",
       "    </tr>\n",
       "    <tr>\n",
       "      <td>5</td>\n",
       "      <td>自我挑戰組</td>\n",
       "      <td>77</td>\n",
       "    </tr>\n",
       "  </tbody>\n",
       "</table>\n",
       "</div>"
      ],
      "text/plain": [
       "      groups  ironman\n",
       "0  Modem Web       59\n",
       "1     DevOps        9\n",
       "2      Cloud       19\n",
       "3   Big Data       14\n",
       "4   Security        6\n",
       "5      自我挑戰組       77"
      ]
     },
     "execution_count": 16,
     "metadata": {},
     "output_type": "execute_result"
    }
   ],
   "source": [
    "groups = ['Modem Web', 'DevOps', 'Cloud', 'Big Data', 'Security', '自我挑戰組']\n",
    "ironman = [59, 9, 19, 14, 6, 77]\n",
    "ironman_dict = {\"groups\":groups, \"ironman\":ironman}\n",
    "ironman_df = pd.DataFrame(ironman_dict)\n",
    "ironman_df"
   ]
  },
  {
   "cell_type": "code",
   "execution_count": 21,
   "metadata": {},
   "outputs": [
    {
     "name": "stdout",
     "output_type": "stream",
     "text": [
      "鐵人總數：\n",
      "groups     Modem WebDevOpsCloudBig DataSecurity自我挑戰組\n",
      "ironman                                          184\n",
      "dtype: object\n",
      "------------------------------\n",
      "鐵人平均數：\n",
      "ironman    30.666667\n",
      "dtype: float64\n",
      "------------------------------\n",
      "鐵人中位數：\n",
      "ironman    16.5\n",
      "dtype: float64\n",
      "------------------------------\n",
      "描述性統計：\n",
      "         ironman\n",
      "count   6.000000\n",
      "mean   30.666667\n",
      "std    29.803803\n",
      "min     6.000000\n",
      "25%    10.250000\n",
      "50%    16.500000\n",
      "75%    49.000000\n",
      "max    77.000000\n"
     ]
    }
   ],
   "source": [
    "print(\"鐵人總數：\")\n",
    "print(ironman_df.sum()) #計算鐵人總數\n",
    "print(\"------------------------------\")\n",
    "print(\"鐵人平均數：\")\n",
    "print(ironman_df.mean()) #計算鐵人平均數\n",
    "print(\"------------------------------\")\n",
    "print(\"鐵人中位數：\")\n",
    "print(ironman_df.median()) #計算鐵人中位數\n",
    "print(\"------------------------------\")\n",
    "print(\"描述性統計：\")\n",
    "print(ironman_df.describe()) #列出所有描述性統計"
   ]
  },
  {
   "cell_type": "code",
   "execution_count": 26,
   "metadata": {},
   "outputs": [
    {
     "name": "stdout",
     "output_type": "stream",
     "text": [
      "      groups  ironman\n",
      "0  Modem Web     59.0\n",
      "1     DevOps      9.0\n",
      "2        NaN     19.0\n",
      "3   Big Data     14.0\n",
      "4   Security      6.0\n",
      "5      自我挑戰組      NaN\n",
      "------------------------------\n",
      "0    Modem Web\n",
      "1       DevOps\n",
      "2          NaN\n",
      "3     Big Data\n",
      "4     Security\n",
      "5        自我挑戰組\n",
      "Name: groups, dtype: object\n",
      "------------------------------\n",
      "0    False\n",
      "1    False\n",
      "2     True\n",
      "3    False\n",
      "4    False\n",
      "5    False\n",
      "Name: groups, dtype: bool\n",
      "------------------------------\n",
      "0    59.0\n",
      "1     9.0\n",
      "2    19.0\n",
      "3    14.0\n",
      "4     6.0\n",
      "5     NaN\n",
      "Name: ironman, dtype: float64\n",
      "------------------------------\n",
      "0     True\n",
      "1     True\n",
      "2     True\n",
      "3     True\n",
      "4     True\n",
      "5    False\n",
      "Name: ironman, dtype: bool\n"
     ]
    }
   ],
   "source": [
    "import numpy as np\n",
    "groups = ['Modem Web', 'DevOps', np.nan, 'Big Data', 'Security', '自我挑戰組']\n",
    "ironman = [59, 9, 19, 14, 6, np.nan]\n",
    "ironman_dict = {\"groups\":groups, \"ironman\":ironman}\n",
    "ironman_df = pd.DataFrame(ironman_dict)\n",
    "print(ironman_df)\n",
    "print(\"------------------------------\")\n",
    "print(ironman_df.loc[:, \"groups\"]) #只顯示groups欄\n",
    "print(\"------------------------------\")\n",
    "print(ironman_df.loc[:, \"groups\"].isnull()) #判斷groups是否空值(無空值:False,有空值:True)\n",
    "print(\"------------------------------\")\n",
    "print(ironman_df.loc[:, \"ironman\"]) #只顯示ironman欄\n",
    "print(\"------------------------------\")\n",
    "print(ironman_df.loc[:, \"ironman\"].notnull()) #判斷ironman是否空值(無空值:True,有空值:False)"
   ]
  },
  {
   "cell_type": "code",
   "execution_count": 27,
   "metadata": {},
   "outputs": [
    {
     "name": "stdout",
     "output_type": "stream",
     "text": [
      "2    NaN\n",
      "Name: groups, dtype: object\n",
      "0    59.0\n",
      "1     9.0\n",
      "2    19.0\n",
      "3    14.0\n",
      "4     6.0\n",
      "Name: ironman, dtype: float64\n"
     ]
    }
   ],
   "source": [
    "print(ironman_df.groups[ironman_df.loc[:, \"groups\"].isnull()])\n",
    "print(ironman_df.ironman[ironman_df.loc[:, \"ironman\"].notnull()])"
   ]
  },
  {
   "cell_type": "code",
   "execution_count": 33,
   "metadata": {},
   "outputs": [
    {
     "name": "stdout",
     "output_type": "stream",
     "text": [
      "      groups  ironman\n",
      "0  Modem Web     59.0\n",
      "1     DevOps      9.0\n",
      "2        NaN     19.0\n",
      "3   Big Data     14.0\n",
      "4   Security      6.0\n",
      "5      自我挑戰組      NaN\n",
      "-----------------------------------------\n",
      "      groups  ironman\n",
      "0  Modem Web     59.0\n",
      "1     DevOps      9.0\n",
      "3   Big Data     14.0\n",
      "4   Security      6.0\n",
      "-----------------------------------------\n",
      "      groups  ironman\n",
      "0  Modem Web     59.0\n",
      "1     DevOps      9.0\n",
      "2          0     19.0\n",
      "3   Big Data     14.0\n",
      "4   Security      6.0\n",
      "5      自我挑戰組      0.0\n",
      "-----------------------------------------\n",
      "      groups  ironman\n",
      "0  Modem Web     59.0\n",
      "1     DevOps      9.0\n",
      "2      Cloud     19.0\n",
      "3   Big Data     14.0\n",
      "4   Security      6.0\n",
      "5      自我挑戰組     71.0\n"
     ]
    }
   ],
   "source": [
    "print(ironman_df)\n",
    "print(\"-----------------------------------------\")\n",
    "ironman_df_dropped = ironman_df.dropna() #刪除遺失值\n",
    "print(ironman_df_dropped)\n",
    "print(\"-----------------------------------------\")\n",
    "ironman_df_filled = ironman_df.fillna(0) #遺失值變為0\n",
    "print(ironman_df_filled)\n",
    "print(\"-----------------------------------------\")\n",
    "ironman_df_fillvalue = ironman_df.fillna({\"groups\":\"Cloud\", \"ironman\":71}) #將遺失值補上指定值\n",
    "print(ironman_df_fillvalue)"
   ]
  },
  {
   "cell_type": "code",
   "execution_count": null,
   "metadata": {},
   "outputs": [],
   "source": []
  }
 ],
 "metadata": {
  "kernelspec": {
   "display_name": "Python 3",
   "language": "python",
   "name": "python3"
  },
  "language_info": {
   "codemirror_mode": {
    "name": "ipython",
    "version": 3
   },
   "file_extension": ".py",
   "mimetype": "text/x-python",
   "name": "python",
   "nbconvert_exporter": "python",
   "pygments_lexer": "ipython3",
   "version": "3.7.4"
  }
 },
 "nbformat": 4,
 "nbformat_minor": 2
}
