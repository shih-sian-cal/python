{
 "cells": [
  {
   "cell_type": "markdown",
   "metadata": {},
   "source": [
    "# 商用程式設計：第三章　Python流程控制\n",
    "### Chap 3(109/03/24)"
   ]
  },
  {
   "cell_type": "code",
   "execution_count": 10,
   "metadata": {},
   "outputs": [
    {
     "name": "stdout",
     "output_type": "stream",
     "text": [
      "本金10,000元，年利率1%，請問多久銀行存款會加倍\n",
      "70年以後，存款加倍，為20067元\n"
     ]
    }
   ],
   "source": [
    "print(\"本金10,000元，年利率1%，請問多久銀行存款會加倍\")\n",
    "x = 10000\n",
    "year = 0\n",
    "while x <= 20000:\n",
    "    year += 1\n",
    "    x = x * 1.01\n",
    "print(\"{}年以後，存款加倍，為{}元\".format(str(year),int(x)))"
   ]
  },
  {
   "cell_type": "code",
   "execution_count": 1,
   "metadata": {},
   "outputs": [
    {
     "name": "stdout",
     "output_type": "stream",
     "text": [
      "猜數字\n",
      "請輸入1~100之間的數字：0\n",
      "你輸入的數字小於1，請重新輸入\n",
      "請輸入1~100之間的數字：50\n",
      "太大了\n",
      "請輸入1~100之間的數字：25\n",
      "太大了\n",
      "請輸入1~100之間的數字：15\n",
      "你猜對了，數字是15\n",
      "要不要繼續玩猜數字？(請輸入要或不要)不要\n",
      "遊戲結束\n"
     ]
    }
   ],
   "source": [
    "print(\"猜數字\")\n",
    "import random\n",
    "number = random.randint(1,100)\n",
    "while True:\n",
    "    guess = int(input(\"請輸入1~100之間的數字：\"))\n",
    "    if guess == number:\n",
    "        print(\"你猜對了，數字是{}\".format(number))\n",
    "        YesNo = str(input(\"要不要繼續玩猜數字？(請輸入要或不要)\"))\n",
    "        if YesNo == \"要\":\n",
    "            number = random.randint(1,100)\n",
    "        elif YesNo == \"不要\":\n",
    "            print(\"遊戲結束\")\n",
    "            break\n",
    "        else:\n",
    "            print(\"系統不知道你要不要玩，所以強制結束了\")\n",
    "            break\n",
    "    elif guess < number:\n",
    "        if guess < 1:\n",
    "            print(\"你輸入的數字小於1，請重新輸入\")\n",
    "        else:\n",
    "            print(\"太小了\")\n",
    "    elif guess > number:\n",
    "        if guess > 100:\n",
    "            print(\"你輸入的數字大於100，請重新輸入\")\n",
    "        else:\n",
    "            print(\"太大了\")\n",
    "    else:\n",
    "        print(\"你輸入不屬於數字的值\")"
   ]
  },
  {
   "cell_type": "markdown",
   "metadata": {},
   "source": [
    "# 商用程式設計：第四章　Python串列物件\n",
    "### Chap 4(109/03/24)\n",
    "* List：串列 [ ]\n",
    "* Tuple：固定串列 ( ) 簡稱:元組\n",
    "* Dict：有鍵值(Key)的串列 { }"
   ]
  },
  {
   "cell_type": "code",
   "execution_count": 9,
   "metadata": {},
   "outputs": [
    {
     "name": "stdout",
     "output_type": "stream",
     "text": [
      "[] [] ['Python', 'Java', 'C#', 1, 0.1]\n",
      "Python\n",
      "Java\n",
      "C#\n"
     ]
    }
   ],
   "source": [
    "#List 串列\n",
    "my_list1 = []\n",
    "my_list2 = list()\n",
    "my_list3 = [\"Python\", \"Java\", \"C#\", 1, 0.1]\n",
    "print(my_list1, my_list2, my_list3)\n",
    "for i in range(0,3):\n",
    "    print(my_list3[i])"
   ]
  },
  {
   "cell_type": "code",
   "execution_count": 23,
   "metadata": {},
   "outputs": [
    {
     "name": "stdout",
     "output_type": "stream",
     "text": [
      "['Python', 'C++', 'Java', 'html5']\n",
      "4\n",
      "6\n",
      "True\n"
     ]
    }
   ],
   "source": [
    "my_list = [\"Python\", \"Java\", \"C#\"]\n",
    "my_list.append(\"html5\")     #append = 增加至最尾端\n",
    "my_list.insert(1, \"C++\")    #insert = 增加至指定位置\n",
    "del my_list[-2]             #del = 刪除指定位置 ★[]內有負號的意思是倒數第幾個\n",
    "print(my_list)              #顯示串列內容\n",
    "print(len(my_list))         #len = 檢查串列長度\n",
    "print(len(my_list[0]))      #len = 檢查字串長度\n",
    "print(\"Java\" in my_list)    #檢查存在值"
   ]
  },
  {
   "cell_type": "code",
   "execution_count": 2,
   "metadata": {},
   "outputs": [
    {
     "name": "stdout",
     "output_type": "stream",
     "text": [
      "[1, 2, 1, 2, 1, 2, 1, 2, 1, 2]\n"
     ]
    }
   ],
   "source": [
    "a = [1, 2]\n",
    "print(a * 5) #內容乘以5倍"
   ]
  },
  {
   "cell_type": "code",
   "execution_count": 7,
   "metadata": {},
   "outputs": [
    {
     "name": "stdout",
     "output_type": "stream",
     "text": [
      "[1, 2, 3]\n",
      "[1, 3, 5, 7, 9]\n",
      "[1, 2, 3, 4, 5, 6, 7]\n",
      "1 7\n",
      "0\n",
      "1\n",
      "[7, 6, 5, 4, 3, 2, 1]\n",
      "[1, 2, 3, 4, 5, 6, 7]\n"
     ]
    }
   ],
   "source": [
    "a = [1, 2, 3, 4, 5, 6, 7, 8, 9]\n",
    "b = a[0:3]               #範圍取值 1, 2, 3(索引值0, 1, 2 不包含 3 )\n",
    "print(b)\n",
    "c = a[0:9:2]             #範圍間隔取值 1, 3, 5, 7, 9(索引值 0, 2, 4, 6, 8)\n",
    "print(c)\n",
    "del a[7:9]               #範圍刪除 8, 9(索引值 7, 8 不包含9)\n",
    "print(a)\n",
    "print(min(a), max(a))    #串列內取最小值和最大值 1, 7\n",
    "print(a.index(1))        #取得 1 的索引值(索引值 0)\n",
    "print(a.count(1))        #計算有多少個 1\n",
    "a.reverse()              #將串列的內容倒反排序\n",
    "print(a)\n",
    "a.sort()                 #將串列的內容正常排序\n",
    "print(a)"
   ]
  },
  {
   "cell_type": "code",
   "execution_count": 12,
   "metadata": {},
   "outputs": [
    {
     "name": "stdout",
     "output_type": "stream",
     "text": [
      "('Python', 'Java', 'C#')\n",
      "('go', 'VB', 'C++')\n",
      "go\n"
     ]
    }
   ],
   "source": [
    "#Tuple\n",
    "#1.佔用較少空間\n",
    "#2.可當作dictionary(字典)的鍵值\n",
    "#3.可當作函式引數\n",
    "\n",
    "a_tuple = (\"Python\", \"Java\", \"C#\")\n",
    "print(a_tuple)\n",
    "b_list = [\"go\", \"VB\", \"C++\"]\n",
    "b_tuple = tuple(b_list)             #list轉型成tuple\n",
    "print(b_tuple)\n",
    "print(b_tuple[0])"
   ]
  },
  {
   "cell_type": "code",
   "execution_count": null,
   "metadata": {},
   "outputs": [],
   "source": []
  }
 ],
 "metadata": {
  "kernelspec": {
   "display_name": "Python 3",
   "language": "python",
   "name": "python3"
  },
  "language_info": {
   "codemirror_mode": {
    "name": "ipython",
    "version": 3
   },
   "file_extension": ".py",
   "mimetype": "text/x-python",
   "name": "python",
   "nbconvert_exporter": "python",
   "pygments_lexer": "ipython3",
   "version": "3.7.4"
  }
 },
 "nbformat": 4,
 "nbformat_minor": 2
}
