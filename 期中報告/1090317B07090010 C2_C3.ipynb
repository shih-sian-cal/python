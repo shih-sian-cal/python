{
 "cells": [
  {
   "cell_type": "markdown",
   "metadata": {},
   "source": [
    "# 商用程式設計：第二章　Python資料表示與運算\n",
    "\n",
    "### Chap 2(109/03/17)"
   ]
  },
  {
   "cell_type": "code",
   "execution_count": 14,
   "metadata": {},
   "outputs": [
    {
     "name": "stdout",
     "output_type": "stream",
     "text": [
      "<class 'int'>\n",
      "<class 'float'>\n",
      "123\n",
      "123.0\n",
      "123\n",
      "The value of x is 32.5 and y is 40000\n",
      "The value of x is 32.5 and y is 40000\n"
     ]
    }
   ],
   "source": [
    "#型態轉換\n",
    "x = 12\n",
    "print (type(x))\n",
    "y = x + 0.5\n",
    "print(type(y))\n",
    "print(int(\"123\"))\n",
    "print(float(\"123\"))\n",
    "print(int(123.456))\n",
    "x = 10 * 3.25\n",
    "y = 200 * 200\n",
    "s = \"The value of x is \" + str(x) + \" and y is \" + str(y)\n",
    "print(s)\n",
    "print(\"The value of x is {} and y is {}\".format(x, y))"
   ]
  },
  {
   "cell_type": "code",
   "execution_count": 19,
   "metadata": {
    "scrolled": true
   },
   "outputs": [
    {
     "name": "stdout",
     "output_type": "stream",
     "text": [
      "3.141592653589793\n",
      "8.0\n",
      "4810.232038034656\n",
      "9.0\n"
     ]
    }
   ],
   "source": [
    "#非內置模組\n",
    "import math\n",
    "print(math.pi)\n",
    "print(math.pow(2,3))\n",
    "print(8.3 * 5.4 * math.pow(5, 4) * math.cos(74))\n",
    "print(math.sqrt(81))"
   ]
  },
  {
   "cell_type": "code",
   "execution_count": 22,
   "metadata": {},
   "outputs": [
    {
     "name": "stdout",
     "output_type": "stream",
     "text": [
      "輸入圓的半徑：5\n",
      "圓的面積：78.53981633974483\n"
     ]
    }
   ],
   "source": [
    "#應用\n",
    "import math\n",
    "r = input(\"輸入圓的半徑：\")\n",
    "area = float(r) * float(r) * math.pi\n",
    "print(\"圓的面積：{}\".format(area))"
   ]
  },
  {
   "cell_type": "markdown",
   "metadata": {},
   "source": [
    "# 商用程式設計：第三章　Python流程控制\n",
    "### Chap 3(109/03/17)"
   ]
  },
  {
   "cell_type": "code",
   "execution_count": 26,
   "metadata": {},
   "outputs": [
    {
     "name": "stdout",
     "output_type": "stream",
     "text": [
      "b比較大\n"
     ]
    }
   ],
   "source": [
    "#if和else\n",
    "a = 3\n",
    "b = 4\n",
    "if a <= b:\n",
    "    print(\"b比較大\")\n",
    "else:\n",
    "    print(\"a比較大\")"
   ]
  },
  {
   "cell_type": "code",
   "execution_count": 42,
   "metadata": {},
   "outputs": [
    {
     "name": "stdout",
     "output_type": "stream",
     "text": [
      "55\n",
      "55\n",
      "55\n"
     ]
    }
   ],
   "source": [
    "#for\n",
    "sum1,sum2,sum3 = 0,0,0\n",
    "for count in range(1,11,1): #11 -> 10\n",
    "    sum1 += count\n",
    "for count in range(1,11):\n",
    "    sum2 += count\n",
    "for count in range(11): #(0,11)\n",
    "    sum3 += count\n",
    "print(sum1)\n",
    "print(sum2)\n",
    "print(sum3)"
   ]
  },
  {
   "cell_type": "code",
   "execution_count": 46,
   "metadata": {},
   "outputs": [
    {
     "name": "stdout",
     "output_type": "stream",
     "text": [
      "f\n",
      "o\n",
      "r\n",
      " \n",
      "s\n",
      "t\n",
      "a\n",
      "t\n",
      "m\n",
      "e\n",
      "n\n",
      "t\n",
      "end list\n"
     ]
    }
   ],
   "source": [
    "mylist = \"for statment\"\n",
    "for word in mylist:\n",
    "    print(word)\n",
    "else:\n",
    "    print(\"end list\")"
   ]
  },
  {
   "cell_type": "code",
   "execution_count": 68,
   "metadata": {},
   "outputs": [
    {
     "name": "stdout",
     "output_type": "stream",
     "text": [
      "雞兔同籠，假設一個農場雞兔共有35顆頭，94隻腳，請問共有幾隻雞，幾隻兔？\n",
      "雞有23隻，兔有12隻\n"
     ]
    }
   ],
   "source": [
    "print(\"雞兔同籠，假設一個農場雞兔共有35顆頭，94隻腳，請問共有幾隻雞，幾隻兔？\")\n",
    "for chicken in range(0,35):\n",
    "    rabbit = 35 - chicken\n",
    "    if (2 * chicken + 4 * rabbit) == 94:\n",
    "        print(\"雞有{}隻，兔有{}隻\".format(chicken,rabbit))\n",
    "        break\n",
    "else:\n",
    "    print(\"無解\")"
   ]
  },
  {
   "cell_type": "code",
   "execution_count": 69,
   "metadata": {},
   "outputs": [
    {
     "name": "stdout",
     "output_type": "stream",
     "text": [
      "1+2+3+...+10 = 55\n"
     ]
    }
   ],
   "source": [
    "#while\n",
    "sum = 0\n",
    "count = 1\n",
    "while count <= 10:\n",
    "    sum += count\n",
    "    count += 1\n",
    "print(\"1+2+3+...+10 = {}\".format(sum))"
   ]
  },
  {
   "cell_type": "code",
   "execution_count": null,
   "metadata": {},
   "outputs": [],
   "source": []
  }
 ],
 "metadata": {
  "kernelspec": {
   "display_name": "Python 3",
   "language": "python",
   "name": "python3"
  },
  "language_info": {
   "codemirror_mode": {
    "name": "ipython",
    "version": 3
   },
   "file_extension": ".py",
   "mimetype": "text/x-python",
   "name": "python",
   "nbconvert_exporter": "python",
   "pygments_lexer": "ipython3",
   "version": "3.7.4"
  }
 },
 "nbformat": 4,
 "nbformat_minor": 2
}
